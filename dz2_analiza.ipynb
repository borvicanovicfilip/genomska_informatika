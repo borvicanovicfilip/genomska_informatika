{
 "cells": [
  {
   "cell_type": "code",
   "execution_count": 57,
   "metadata": {},
   "outputs": [],
   "source": [
    "import pysam"
   ]
  },
  {
   "cell_type": "code",
   "execution_count": 58,
   "metadata": {},
   "outputs": [],
   "source": [
    "#kreiranje impportovanog fajla\n",
    "file = pysam.AlignmentFile(\"/sbgenomics/project-files/merged-tumor.bam\", \"rb\")"
   ]
  },
  {
   "cell_type": "code",
   "execution_count": 59,
   "metadata": {},
   "outputs": [],
   "source": [
    "first_read = pysam.AlignedSegment"
   ]
  },
  {
   "cell_type": "code",
   "execution_count": 60,
   "metadata": {},
   "outputs": [],
   "source": [
    "#inicijalizacija\n",
    "unmapped_reads = 0\n",
    "total_number_reads = 0\n",
    "zero_quality_reads = 0\n",
    "mapping_quality = 0\n",
    "first= None\n",
    "\n",
    "\n",
    "\n"
   ]
  },
  {
   "cell_type": "code",
   "execution_count": 61,
   "metadata": {},
   "outputs": [],
   "source": [
    "#for petlja koja prolazi kroz svaki read\n",
    "for read in file.fetch():\n",
    "    mapping_quality += read.mapping_quality\n",
    "    total_number_reads += 1\n",
    "    #povecanje unmapped read\n",
    "    if read.is_unmapped: \n",
    "        unmapped_reads += 1\n",
    "    #povecanje zero_quality_reads\n",
    "    if read.mapping_quality == 0:\n",
    "        zero_quality_reads += 1\n",
    "        \n",
    "    if first == None: \n",
    "        first_read = read\n",
    "        first= True\n",
    "\n",
    "file.close()"
   ]
  },
  {
   "cell_type": "code",
   "execution_count": 62,
   "metadata": {},
   "outputs": [
    {
     "name": "stdout",
     "output_type": "stream",
     "text": [
      "Flag fields: 1187\n",
      "Read paired: True\n",
      "Read mapped in proper pair: True\n",
      "Read unmapped: False\n",
      "Number of unmapped reads: 17765\n",
      "Number of reads: 2921629\n",
      "Number of reads with mapping quality 0: 126628\n",
      "Average mapping quality for all the reads: 55.91379158681681\n",
      "Average mapping quality if reads with 0 mapp quality are filtered out: 58.446975510921106\n"
     ]
    }
   ],
   "source": [
    "#ispitivanje polja flag-ispis\n",
    "print(\"Flag fields: \" + str(first_read.flag))\n",
    "\n",
    "#ispitivanje ostalih polja-ispis\n",
    "print(\"Read paired: \" + str(first_read.is_paired))\n",
    "print(\"Read mapped in proper pair: \" + str(first_read.is_proper_pair))\n",
    "print(\"Read unmapped: \" + str(first_read.is_unmapped))\n",
    "\n",
    "#potrebne kalkulacije-ispis\n",
    "print(\"Number of unmapped reads: \" + str(unmapped_reads))\n",
    "print(\"Number of reads: \" + str(total_number_reads))\n",
    "print(\"Number of reads with mapping quality 0: \" + str(zero_quality_reads))\n",
    "print(\"Average mapping quality for all the reads: \" + str(mapping_quality / total_number_reads))\n",
    "print(\"Average mapping quality if reads with 0 mapp quality are filtered out: \" + str(mapping_quality / (total_number_reads - zero_quality_reads)))\n",
    "\n",
    "\n",
    "\n"
   ]
  }
 ],
 "metadata": {
  "kernelspec": {
   "display_name": "Python 3",
   "language": "python",
   "name": "python3"
  },
  "language_info": {
   "codemirror_mode": {
    "name": "ipython",
    "version": 3
   },
   "file_extension": ".py",
   "mimetype": "text/x-python",
   "name": "python",
   "nbconvert_exporter": "python",
   "pygments_lexer": "ipython3",
   "version": "3.6.3"
  }
 },
 "nbformat": 4,
 "nbformat_minor": 2
}
